{
  "cells": [
    {
      "cell_type": "raw",
      "metadata": {},
      "source": [
        "---\n",
        "title: \"Day1: 실습 - 실습12\"\n",
        "author: \"전현지\"\n",
        "date: \"01/08/2024\"\n",
        "---"
      ],
      "id": "0761c646"
    },
    {
      "cell_type": "markdown",
      "metadata": {},
      "source": [
        "- 이거슨 그냥 그냥 저냥 ㅎㅎ..\n"
      ],
      "id": "b57bbe4e"
    },
    {
      "cell_type": "code",
      "metadata": {},
      "source": [
        "print('hello')\n",
        "a = 1+1\n",
        "print(a)"
      ],
      "id": "b2e98d97",
      "execution_count": null,
      "outputs": []
    },
    {
      "cell_type": "code",
      "metadata": {},
      "source": [
        "!python --version"
      ],
      "id": "8c2545f4",
      "execution_count": null,
      "outputs": []
    },
    {
      "cell_type": "markdown",
      "metadata": {},
      "source": [
        "c("
      ],
      "id": "2f6017df"
    }
  ],
  "metadata": {
    "kernelspec": {
      "name": "python3",
      "language": "python",
      "display_name": "Python 3 (ipykernel)"
    }
  },
  "nbformat": 4,
  "nbformat_minor": 5
}