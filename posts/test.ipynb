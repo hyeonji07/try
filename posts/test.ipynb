{
 "cells": [
  {
   "cell_type": "raw",
   "id": "0761c646",
   "metadata": {},
   "source": [
    "---\n",
    "title: \"Day1: 실습 - 실습12\"\n",
    "author: \"전현지\"\n",
    "date: \"01/08/2024\"\n",
    "---"
   ]
  },
  {
   "cell_type": "markdown",
   "id": "b57bbe4e",
   "metadata": {},
   "source": [
    "- 이거슨 그냥 그냥 저냥 ㅎㅎ..\n"
   ]
  },
  {
   "cell_type": "code",
   "execution_count": null,
   "id": "b2e98d97",
   "metadata": {},
   "outputs": [],
   "source": [
    "print('hello')\n",
    "a = 1+1\n",
    "print(a)"
   ]
  },
  {
   "cell_type": "code",
   "execution_count": null,
   "id": "8c2545f4",
   "metadata": {},
   "outputs": [],
   "source": [
    "!python --version"
   ]
  },
  {
   "cell_type": "markdown",
   "id": "2f6017df",
   "metadata": {},
   "source": [
    "c("
   ]
  }
 ],
 "metadata": {
  "kernelspec": {
   "display_name": "Python 3 (ipykernel)",
   "language": "python",
   "name": "python3"
  },
  "language_info": {
   "codemirror_mode": {
    "name": "ipython",
    "version": 3
   },
   "file_extension": ".py",
   "mimetype": "text/x-python",
   "name": "python",
   "nbconvert_exporter": "python",
   "pygments_lexer": "ipython3",
   "version": "3.10.13"
  }
 },
 "nbformat": 4,
 "nbformat_minor": 5
}
