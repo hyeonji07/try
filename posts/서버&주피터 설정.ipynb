{
 "cells": [
  {
   "cell_type": "markdown",
   "id": "75cc8a21-46bb-48c9-9bfc-5abf580b8447",
   "metadata": {},
   "source": [
    "# 서버 설정"
   ]
  },
  {
   "cell_type": "markdown",
   "id": "3004be4a-79f5-4a87-bbcd-08fd118c734c",
   "metadata": {},
   "source": [
    "`-` 서버 비밀번호 바꾸기\n",
    "- passwd root"
   ]
  },
  {
   "cell_type": "markdown",
   "id": "a26e167a-5b62-458e-a2c1-4e84dabf7d8d",
   "metadata": {},
   "source": [
    "# Anaconda"
   ]
  },
  {
   "cell_type": "markdown",
   "id": "f272b277-18e8-405b-bdb1-fe6f65c6138d",
   "metadata": {},
   "source": [
    "`-` 다운로드\n",
    "- wget https://repo.anaconda.com/archive/Anaconda3-2023.09-0-Linux-x86_64.sh\n",
    "- bash Anaconda3-2023.09-0-Linux-x86_64.sh"
   ]
  },
  {
   "cell_type": "markdown",
   "id": "e91796b5-61b5-4f60-b9d2-0ef25ac6379a",
   "metadata": {},
   "source": [
    "`-` 가상환경 생성\n",
    "- conda create -n 가상환경이름 python=원하는 버전\n",
    "- ex) conda create -n py310 python=3.10"
   ]
  },
  {
   "cell_type": "markdown",
   "id": "90367115-df6d-4428-888d-e07c86eedb6d",
   "metadata": {},
   "source": [
    "# Jupyter"
   ]
  },
  {
   "cell_type": "markdown",
   "id": "af194aea-2818-449b-ae81-28c704cfeef8",
   "metadata": {},
   "source": [
    "## 1. jupyter 설치"
   ]
  },
  {
   "cell_type": "markdown",
   "id": "ef533478-8c35-4a1f-80da-b76bf52a4156",
   "metadata": {},
   "source": [
    "- 원하는 가상환경에 jupyter lab, notebook 설치하기\n",
    "- *so, 꼭 conda activate py310 해줘야 함.*"
   ]
  },
  {
   "cell_type": "markdown",
   "id": "622b993b-d77c-41a9-bd02-0231e1735854",
   "metadata": {},
   "source": [
    "`-` 설치 방법\n",
    "- conda install -c conda-forge jupyterlab\n",
    "- conda install -c conda-forge notebook"
   ]
  },
  {
   "cell_type": "markdown",
   "id": "da919296-914a-4ec4-a710-8629f7419d9a",
   "metadata": {},
   "source": [
    "`-` jupyter notebook 비밀번호 설정\n",
    "- jupyter notebook password"
   ]
  },
  {
   "cell_type": "markdown",
   "id": "a95ac30b-69dc-453d-8e68-f009f38b85b6",
   "metadata": {},
   "source": [
    "## 2. jupyter를 port에 연결"
   ]
  },
  {
   "cell_type": "markdown",
   "id": "2c199e32-1825-4167-a7b1-f516bac4a7fc",
   "metadata": {},
   "source": [
    "`-` step1\n",
    "- root 유저 홈에서 ls -a\n",
    "- .jupyter 환경에 들어가기\n",
    "- jupyter_notebook_config.py 열기\n",
    "- 없다면? jupyter notebook --generate-config"
   ]
  },
  {
   "cell_type": "markdown",
   "id": "8d241583-4b6c-4804-934d-6278c16c048b",
   "metadata": {},
   "source": [
    "`-` step 2  : jupyter_notebook_config.py 편집하기 (by vi)\n"
   ]
  },
  {
   "cell_type": "code",
   "execution_count": null,
   "id": "bd6eb01f-f81a-4354-8ee3-7899884f0e7e",
   "metadata": {},
   "outputs": [],
   "source": [
    "c.NotebookApp.ip = '0.0.0.0'\n",
    "c.NotebookApp.port = 8888 # 8888아니구요. 본인이 쓸수 있는 포트중에서 좋아하는거 쓰세여 \n",
    "c.NotebookApp.allow_root = True \n",
    "c.NotebookApp.allow_remote_access = True # 당장필요한건 아닌데요.. 해놓으세여 "
   ]
  },
  {
   "cell_type": "markdown",
   "id": "7bef2d5d-0539-41f1-bc9e-7cc1dbcafe2a",
   "metadata": {},
   "source": [
    "## 3. 주피터랩 평생 켜놓기"
   ]
  },
  {
   "cell_type": "code",
   "execution_count": null,
   "id": "e44f2615-2b48-4586-903c-5031105bc394",
   "metadata": {},
   "outputs": [],
   "source": [
    "nohup jupyter lab --ip=\"0.0.0.0\" --port={MY-PORT} --allow-root > /dev/null 2>&1 &"
   ]
  }
 ],
 "metadata": {
  "kernelspec": {
   "display_name": "Python 3 (ipykernel)",
   "language": "python",
   "name": "python3"
  },
  "language_info": {
   "codemirror_mode": {
    "name": "ipython",
    "version": 3
   },
   "file_extension": ".py",
   "mimetype": "text/x-python",
   "name": "python",
   "nbconvert_exporter": "python",
   "pygments_lexer": "ipython3",
   "version": "3.10.13"
  }
 },
 "nbformat": 4,
 "nbformat_minor": 5
}
